{
 "cells": [
  {
   "cell_type": "markdown",
   "metadata": {},
   "source": [
    "![rmotr](https://user-images.githubusercontent.com/7065401/52071918-bda15380-2562-11e9-828c-7f95297e4a82.png)\n",
    "\n",
    "<img src=\"https://user-images.githubusercontent.com/7065401/55008734-2b488980-4fc0-11e9-95e0-879b1d9eb4c7.png\"\n",
    "    style=\"width:80px; float: right; margin: 0 40px 40px 40px;\"></img>\n",
    "\n",
    "# RMOTR Data Science - Final project\n",
    "## **Analyzing StackOverflow Developer Survey**\n",
    "\n",
    "Each year, <a href=\"https://stackoverflow.com/\" target=\"_blank\">StackOverflow</a> asks the developer community about everything from their favorite technologies to their job preferences, then they publish Survey results of over 100,000 developers.\n",
    "\n",
    "You can see an example of the analysis they made for last year's survey <a href=\"https://insights.stackoverflow.com/survey/2018/\" target=\"_blank\">here</a>.\n",
    "\n",
    "![green-divider](https://user-images.githubusercontent.com/7065401/52071924-c003ad80-2562-11e9-8297-1c6595f8a7ff.png)"
   ]
  },
  {
   "cell_type": "markdown",
   "metadata": {},
   "source": [
    "### 👉 Initial analysis and cleaning\n",
    "\n",
    "- Extract and load the **_data/stack-overflow-2018-developer-survey.zip_** data into a `DataFrame`.\n",
    "- Process the data and clean it according to your own criteria, for example:\n",
    "    - Set the right type of the columns;\n",
    "    - Remove outliers;\n",
    "    - Remove unused columns;\n",
    "    - Transform categorical into dummies.\n",
    "- Make an EDA _(Exploratory Data Analysis)_ to understand the data.\n",
    "    - Find out variable relationships;\n",
    "    - Correlations;\n",
    "    - Actionable insights that can be drawn from the given data (scatterplots, boxplots, lineplots, etc.).\n",
    "    "
   ]
  },
  {
   "cell_type": "markdown",
   "metadata": {},
   "source": [
    "### 👉 Questions\n",
    "\n",
    "Aside from the analysis performed in the previous point, please answer these questions extending your EDA:\n",
    "\n",
    "1. Is there a correlation between the years of experience of a developer and their salary? What about age?\n",
    "- Is there any relationship between bootcamp education and salaries? What about formal education?\n",
    "- Is there any relationship between years of experience and the technologies/languages employed by developers?\n",
    "- Which are the top-three the most common dev types per country? And which are the best paid ones?\n",
    "- Which are the most popular programming languages? And which are the highest-paying ones?\n",
    "- Are the best paid jobs the most satisfying?\n",
    "- Does career satisfaction depends on company or organization size? Are there any other variables that are correlated to career satisfaction?\n"
   ]
  },
  {
   "cell_type": "markdown",
   "metadata": {},
   "source": [
    "### 👉 Modeling\n",
    "\n",
    "Machine Learning time! We want you to conduct the required analysis to make some predictions. It's not necessary that the model predicts correctly, we're more interested about your approach to select variables, make the analysis, cleaning and selecting the model. Keep in mind that this is a large dataset with many columns; not all of them will be relevant.\n",
    "\n",
    "#### Predicting Salary\n",
    "\n",
    "Create a model that predicts the salary of a developer. What are the most relevant variables when comes to predicting salary and why?\n",
    "\n",
    "#### Predict job satisfaction\n",
    "\n",
    "Create a model that predicts Job satisfaction for a developer. What variables are the most relevant for this? And what factors have a greater influence in higher job satisfaction?\n"
   ]
  },
  {
   "cell_type": "markdown",
   "metadata": {},
   "source": [
    "### 👉 Optional\n",
    "\n",
    "Finally, if you have extra time, here are two optional points to work on:\n",
    "\n",
    "- Look up other datasets to enrich the data. For example, you could get a dataset with Country GDP and combine it with survey data, to see how Job Satisfaction is related to the country's GDP.\n",
    "- Create an API endpoint to predict salaries. The endpoint should receive the appropriate variables and return the prediction. "
   ]
  },
  {
   "cell_type": "markdown",
   "metadata": {},
   "source": [
    "![purple-divider](https://user-images.githubusercontent.com/7065401/52071927-c1cd7100-2562-11e9-908a-dde91ba14e59.png)"
   ]
  }
 ],
 "metadata": {
  "kernelspec": {
   "display_name": "Python 3",
   "language": "python",
   "name": "python3"
  },
  "language_info": {
   "codemirror_mode": {
    "name": "ipython",
    "version": 3
   },
   "file_extension": ".py",
   "mimetype": "text/x-python",
   "name": "python",
   "nbconvert_exporter": "python",
   "pygments_lexer": "ipython3",
   "version": "3.6.8"
  }
 },
 "nbformat": 4,
 "nbformat_minor": 2
}
